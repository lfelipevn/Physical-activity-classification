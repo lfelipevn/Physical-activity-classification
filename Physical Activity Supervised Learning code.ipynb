{
 "cells": [
  {
   "cell_type": "markdown",
   "metadata": {
    "collapsed": false
   },
   "source": [
    "# Análisis de datos de actividad física con aprendizaje supervisado. Archivo 1\n"
   ]
  },
  {
   "cell_type": "code",
   "execution_count": 120,
   "metadata": {
    "collapsed": false
   },
   "outputs": [
   ],
   "source": [
    "import pandas as pd\n",
    "import matplotlib.pyplot as plt\n",
    "from sklearn import svm\n",
    "from sklearn.neighbors import KNeighborsClassifier\n",
    "from sklearn.neural_network import MLPClassifier\n",
    "from sklearn.ensemble import RandomForestClassifier\n",
    "from sklearn.naive_bayes import GaussianNB\n",
    "from sklearn.model_selection import KFold\n",
    "import numpy as np\n",
    "from sklearn.metrics import accuracy_score\n",
    "from sklearn.metrics import precision_score\n",
    "from sklearn.metrics import recall_score\n",
    "from sklearn.model_selection import GridSearchCV\n",
    "from sklearn.feature_selection import SequentialFeatureSelector"
   ]
  },
  {
   "cell_type": "code",
   "execution_count": 3,
   "metadata": {
    "collapsed": false
   },
   "outputs": [
   ],
   "source": [
    "df = pd.read_csv('data_set.txt', header = None, delimiter = \" \")"
   ]
  },
  {
   "cell_type": "code",
   "execution_count": 4,
   "metadata": {
    "collapsed": false
   },
   "outputs": [
    {
     "data": {
      "text/html": [
       "<div>\n",
       "<style scoped>\n",
       "    .dataframe tbody tr th:only-of-type {\n",
       "        vertical-align: middle;\n",
       "    }\n",
       "\n",
       "    .dataframe tbody tr th {\n",
       "        vertical-align: top;\n",
       "    }\n",
       "\n",
       "    .dataframe thead th {\n",
       "        text-align: right;\n",
       "    }\n",
       "</style>\n",
       "<table border=\"1\" class=\"dataframe\">\n",
       "  <thead>\n",
       "    <tr style=\"text-align: right;\">\n",
       "      <th></th>\n",
       "      <th>0</th>\n",
       "      <th>1</th>\n",
       "      <th>2</th>\n",
       "      <th>3</th>\n",
       "      <th>4</th>\n",
       "      <th>5</th>\n",
       "      <th>6</th>\n",
       "      <th>7</th>\n",
       "      <th>8</th>\n",
       "      <th>9</th>\n",
       "      <th>...</th>\n",
       "      <th>21</th>\n",
       "      <th>22</th>\n",
       "      <th>23</th>\n",
       "      <th>24</th>\n",
       "      <th>25</th>\n",
       "      <th>26</th>\n",
       "      <th>27</th>\n",
       "      <th>28</th>\n",
       "      <th>29</th>\n",
       "      <th>30</th>\n",
       "    </tr>\n",
       "  </thead>\n",
       "  <tbody>\n",
       "    <tr>\n",
       "      <th>0</th>\n",
       "      <td>4.0</td>\n",
       "      <td>-5.5786</td>\n",
       "      <td>3.134741</td>\n",
       "      <td>-1.176531</td>\n",
       "      <td>-0.033756</td>\n",
       "      <td>-3.1047</td>\n",
       "      <td>2.848606</td>\n",
       "      <td>-0.014976</td>\n",
       "      <td>0.669982</td>\n",
       "      <td>7.8129</td>\n",
       "      <td>...</td>\n",
       "      <td>1.747086</td>\n",
       "      <td>1.057106</td>\n",
       "      <td>0.037575</td>\n",
       "      <td>0.002847</td>\n",
       "      <td>0.584789</td>\n",
       "      <td>0.846935</td>\n",
       "      <td>3.193513</td>\n",
       "      <td>1.932522</td>\n",
       "      <td>0.905779</td>\n",
       "      <td>0.214271</td>\n",
       "    </tr>\n",
       "    <tr>\n",
       "      <th>1</th>\n",
       "      <td>4.0</td>\n",
       "      <td>-5.2017</td>\n",
       "      <td>1.092407</td>\n",
       "      <td>-0.856170</td>\n",
       "      <td>-0.143616</td>\n",
       "      <td>4.6718</td>\n",
       "      <td>1.325162</td>\n",
       "      <td>-1.203422</td>\n",
       "      <td>0.373996</td>\n",
       "      <td>12.2910</td>\n",
       "      <td>...</td>\n",
       "      <td>0.823320</td>\n",
       "      <td>0.647169</td>\n",
       "      <td>0.178631</td>\n",
       "      <td>0.001396</td>\n",
       "      <td>0.033100</td>\n",
       "      <td>0.137333</td>\n",
       "      <td>0.107120</td>\n",
       "      <td>0.008164</td>\n",
       "      <td>0.026978</td>\n",
       "      <td>0.004908</td>\n",
       "    </tr>\n",
       "    <tr>\n",
       "      <th>2</th>\n",
       "      <td>4.0</td>\n",
       "      <td>-5.1571</td>\n",
       "      <td>0.474594</td>\n",
       "      <td>-1.409391</td>\n",
       "      <td>0.342949</td>\n",
       "      <td>-2.4269</td>\n",
       "      <td>1.584536</td>\n",
       "      <td>-0.184497</td>\n",
       "      <td>0.684843</td>\n",
       "      <td>7.9106</td>\n",
       "      <td>...</td>\n",
       "      <td>0.038404</td>\n",
       "      <td>0.006227</td>\n",
       "      <td>0.005308</td>\n",
       "      <td>0.000783</td>\n",
       "      <td>0.021865</td>\n",
       "      <td>0.178897</td>\n",
       "      <td>0.006650</td>\n",
       "      <td>0.048089</td>\n",
       "      <td>0.019424</td>\n",
       "      <td>0.001921</td>\n",
       "    </tr>\n",
       "    <tr>\n",
       "      <th>3</th>\n",
       "      <td>4.0</td>\n",
       "      <td>-3.1682</td>\n",
       "      <td>0.509142</td>\n",
       "      <td>-1.209649</td>\n",
       "      <td>0.030758</td>\n",
       "      <td>-7.0519</td>\n",
       "      <td>0.835266</td>\n",
       "      <td>-1.390385</td>\n",
       "      <td>0.211091</td>\n",
       "      <td>4.5793</td>\n",
       "      <td>...</td>\n",
       "      <td>0.077507</td>\n",
       "      <td>0.000202</td>\n",
       "      <td>0.000195</td>\n",
       "      <td>0.000041</td>\n",
       "      <td>0.087406</td>\n",
       "      <td>0.275055</td>\n",
       "      <td>0.039302</td>\n",
       "      <td>0.071937</td>\n",
       "      <td>0.008006</td>\n",
       "      <td>0.000530</td>\n",
       "    </tr>\n",
       "    <tr>\n",
       "      <th>4</th>\n",
       "      <td>4.0</td>\n",
       "      <td>1.4859</td>\n",
       "      <td>1.986506</td>\n",
       "      <td>-1.555775</td>\n",
       "      <td>0.377217</td>\n",
       "      <td>-5.5237</td>\n",
       "      <td>1.099881</td>\n",
       "      <td>-1.471137</td>\n",
       "      <td>0.064732</td>\n",
       "      <td>4.9097</td>\n",
       "      <td>...</td>\n",
       "      <td>0.263043</td>\n",
       "      <td>0.015050</td>\n",
       "      <td>0.002462</td>\n",
       "      <td>0.000014</td>\n",
       "      <td>2.366778</td>\n",
       "      <td>10.087796</td>\n",
       "      <td>2.437080</td>\n",
       "      <td>0.000339</td>\n",
       "      <td>0.002428</td>\n",
       "      <td>0.000637</td>\n",
       "    </tr>\n",
       "  </tbody>\n",
       "</table>\n",
       "<p>5 rows × 31 columns</p>\n",
       "</div>"
      ],
      "text/plain": [
       "    0       1         2         3         4       5         6         7   \\\n",
       "0  4.0 -5.5786  3.134741 -1.176531 -0.033756 -3.1047  2.848606 -0.014976   \n",
       "1  4.0 -5.2017  1.092407 -0.856170 -0.143616  4.6718  1.325162 -1.203422   \n",
       "2  4.0 -5.1571  0.474594 -1.409391  0.342949 -2.4269  1.584536 -0.184497   \n",
       "3  4.0 -3.1682  0.509142 -1.209649  0.030758 -7.0519  0.835266 -1.390385   \n",
       "4  4.0  1.4859  1.986506 -1.555775  0.377217 -5.5237  1.099881 -1.471137   \n",
       "\n",
       "         8        9   ...        21        22        23        24        25  \\\n",
       "0  0.669982   7.8129  ...  1.747086  1.057106  0.037575  0.002847  0.584789   \n",
       "1  0.373996  12.2910  ...  0.823320  0.647169  0.178631  0.001396  0.033100   \n",
       "2  0.684843   7.9106  ...  0.038404  0.006227  0.005308  0.000783  0.021865   \n",
       "3  0.211091   4.5793  ...  0.077507  0.000202  0.000195  0.000041  0.087406   \n",
       "4  0.064732   4.9097  ...  0.263043  0.015050  0.002462  0.000014  2.366778   \n",
       "\n",
       "          26        27        28        29        30  \n",
       "0   0.846935  3.193513  1.932522  0.905779  0.214271  \n",
       "1   0.137333  0.107120  0.008164  0.026978  0.004908  \n",
       "2   0.178897  0.006650  0.048089  0.019424  0.001921  \n",
       "3   0.275055  0.039302  0.071937  0.008006  0.000530  \n",
       "4  10.087796  2.437080  0.000339  0.002428  0.000637  \n",
       "\n",
       "[5 rows x 31 columns]"
      ]
     },
     "execution_count": 4,
     "metadata": {
     },
     "output_type": "execute_result"
    }
   ],
   "source": [
    "df.head()"
   ]
  },
  {
   "cell_type": "code",
   "execution_count": 118,
   "metadata": {
    "collapsed": false
   },
   "outputs": [
    {
     "data": {
      "text/plain": [
       "(493, 31)"
      ]
     },
     "execution_count": 118,
     "metadata": {
     },
     "output_type": "execute_result"
    }
   ],
   "source": [
    "df.shape"
   ]
  },
  {
   "cell_type": "code",
   "execution_count": 6,
   "metadata": {
    "collapsed": false
   },
   "outputs": [
   ],
   "source": [
    "y = df.iloc[:,0]\n",
    "X = df.iloc[:,1:]"
   ]
  },
  {
   "cell_type": "code",
   "execution_count": 82,
   "metadata": {
    "collapsed": false
   },
   "outputs": [
    {
     "data": {
      "text/plain": [
       "3.0    139\n",
       "2.0    138\n",
       "1.0    108\n",
       "4.0    108\n",
       "Name: 0, dtype: int64"
      ]
     },
     "execution_count": 82,
     "metadata": {
     },
     "output_type": "execute_result"
    }
   ],
   "source": [
    "y.value_counts()"
   ]
  },
  {
   "cell_type": "markdown",
   "metadata": {
    "collapsed": false
   },
   "source": [
    "Donde 1: saltar la cuerda, 2: bailar como señora, 3: lagartijas y 4: sentadillas. Se aprecia que las clases están aproximadamente balanceadas."
   ]
  },
  {
   "cell_type": "code",
   "execution_count": 9,
   "metadata": {
    "collapsed": false
   },
   "outputs": [
   ],
   "source": [
    "kf = KFold(n_splits=5, shuffle = True)"
   ]
  },
  {
   "cell_type": "markdown",
   "metadata": {
    "collapsed": false
   },
   "source": [
    "## Evaluación del rendimiento de los modelos de clasificación"
   ]
  },
  {
   "cell_type": "markdown",
   "metadata": {
    "collapsed": false
   },
   "source": [
    "### SVM"
   ]
  },
  {
   "cell_type": "code",
   "execution_count": 20,
   "metadata": {
    "collapsed": false
   },
   "outputs": [
   ],
   "source": [
    "clf = svm.SVC(kernel = 'linear')\n",
    "\n",
    "acc = 0\n",
    "rec = np.array([0., 0., 0., 0.])\n",
    "pre = np.array([0., 0., 0., 0.])\n",
    "\n",
    "for train_index, test_index in kf.split(X):\n",
    "    \n",
    "    # Training phase\n",
    "    X_train = X.iloc[train_index, :]\n",
    "    y_train = y.iloc[train_index]\n",
    "    clf.fit(X_train, y_train)\n",
    "\n",
    "    # Test phase\n",
    "    X_test = X.iloc[test_index, :]\n",
    "    y_test = y.iloc[test_index]    \n",
    "    y_pred = clf.predict(X_test)\n",
    "    \n",
    "    acc+=(accuracy_score(y_test, y_pred))\n",
    "    rec+=(recall_score(y_test, y_pred, average=None))\n",
    "    pre+=(precision_score(y_test, y_pred, average=None))\n",
    "    \n",
    "acc = acc/5\n",
    "rec = rec/5\n",
    "pre = pre/5"
   ]
  },
  {
   "cell_type": "code",
   "execution_count": 21,
   "metadata": {
    "collapsed": false
   },
   "outputs": [
    {
     "name": "stdout",
     "output_type": "stream",
     "text": [
      "Accuracy:  0.963512677798392\n",
      "Recall:  [0.95739927 0.93962381 0.992      0.96120631]\n",
      "Precision:  [0.95614286 0.94512087 1.         0.95144444]\n"
     ]
    }
   ],
   "source": [
    "print(\"Accuracy: \",acc)\n",
    "print(\"Recall: \",rec)\n",
    "print(\"Precision: \",pre)"
   ]
  },
  {
   "cell_type": "markdown",
   "metadata": {
    "collapsed": false
   },
   "source": [
    "### K-NN"
   ]
  },
  {
   "cell_type": "code",
   "execution_count": 47,
   "metadata": {
    "collapsed": false
   },
   "outputs": [
   ],
   "source": [
    "clf = KNeighborsClassifier(n_neighbors=3)\n",
    "\n",
    "acc = 0\n",
    "rec = np.array([0., 0., 0., 0.])\n",
    "pre = np.array([0., 0., 0., 0.])\n",
    "\n",
    "for train_index, test_index in kf.split(X):\n",
    "    \n",
    "    # Training phase\n",
    "    X_train = X.iloc[train_index, :]\n",
    "    y_train = y.iloc[train_index]\n",
    "    clf.fit(X_train, y_train)\n",
    "\n",
    "    # Test phase\n",
    "    X_test = X.iloc[test_index, :]\n",
    "    y_test = y.iloc[test_index]    \n",
    "    y_pred = clf.predict(X_test)\n",
    "    \n",
    "    acc+=(accuracy_score(y_test, y_pred))\n",
    "    rec+=(recall_score(y_test, y_pred, average=None))\n",
    "    pre+=(precision_score(y_test, y_pred, average=None))\n",
    "    \n",
    "acc = acc/5\n",
    "rec = rec/5\n",
    "pre = pre/5"
   ]
  },
  {
   "cell_type": "code",
   "execution_count": 48,
   "metadata": {
    "collapsed": false
   },
   "outputs": [
    {
     "name": "stdout",
     "output_type": "stream",
     "text": [
      "Accuracy:  0.9736755308183879\n",
      "Recall:  [0.97380952 0.94375447 1.         0.982     ]\n",
      "Precision:  [0.9647892  0.96398467 0.99354839 0.96888889]\n"
     ]
    }
   ],
   "source": [
    "print(\"Accuracy: \",acc)\n",
    "print(\"Recall: \",rec)\n",
    "print(\"Precision: \",pre)"
   ]
  },
  {
   "cell_type": "markdown",
   "metadata": {
    "collapsed": false
   },
   "source": [
    "### MLP"
   ]
  },
  {
   "cell_type": "code",
   "execution_count": 59,
   "metadata": {
    "collapsed": false
   },
   "outputs": [
    {
     "name": "stderr",
     "output_type": "stream",
     "text": [
      "/usr/local/lib/python3.8/dist-packages/sklearn/neural_network/_multilayer_perceptron.py:614: ConvergenceWarning: Stochastic Optimizer: Maximum iterations (500) reached and the optimization hasn't converged yet.\n",
      "  warnings.warn(\n"
     ]
    },
    {
     "name": "stderr",
     "output_type": "stream",
     "text": [
      "/usr/local/lib/python3.8/dist-packages/sklearn/neural_network/_multilayer_perceptron.py:614: ConvergenceWarning: Stochastic Optimizer: Maximum iterations (500) reached and the optimization hasn't converged yet.\n",
      "  warnings.warn(\n"
     ]
    },
    {
     "name": "stderr",
     "output_type": "stream",
     "text": [
      "/usr/local/lib/python3.8/dist-packages/sklearn/neural_network/_multilayer_perceptron.py:614: ConvergenceWarning: Stochastic Optimizer: Maximum iterations (500) reached and the optimization hasn't converged yet.\n",
      "  warnings.warn(\n"
     ]
    },
    {
     "name": "stderr",
     "output_type": "stream",
     "text": [
      "/usr/local/lib/python3.8/dist-packages/sklearn/neural_network/_multilayer_perceptron.py:614: ConvergenceWarning: Stochastic Optimizer: Maximum iterations (500) reached and the optimization hasn't converged yet.\n",
      "  warnings.warn(\n"
     ]
    },
    {
     "name": "stderr",
     "output_type": "stream",
     "text": [
      "/usr/local/lib/python3.8/dist-packages/sklearn/neural_network/_multilayer_perceptron.py:614: ConvergenceWarning: Stochastic Optimizer: Maximum iterations (500) reached and the optimization hasn't converged yet.\n",
      "  warnings.warn(\n"
     ]
    }
   ],
   "source": [
    "clf = MLPClassifier(hidden_layer_sizes = (10,10),max_iter=500)\n",
    "\n",
    "acc = 0\n",
    "rec = np.array([0., 0., 0., 0.])\n",
    "pre = np.array([0., 0., 0., 0.])\n",
    "\n",
    "for train_index, test_index in kf.split(X):\n",
    "    \n",
    "    # Training phase\n",
    "    X_train = X.iloc[train_index, :]\n",
    "    y_train = y.iloc[train_index]\n",
    "    clf.fit(X_train, y_train)\n",
    "\n",
    "    # Test phase\n",
    "    X_test = X.iloc[test_index, :]\n",
    "    y_test = y.iloc[test_index]    \n",
    "    y_pred = clf.predict(X_test)\n",
    "    \n",
    "    acc+=(accuracy_score(y_test, y_pred))\n",
    "    rec+=(recall_score(y_test, y_pred, average=None))\n",
    "    pre+=(precision_score(y_test, y_pred, average=None))\n",
    "    \n",
    "acc = acc/5\n",
    "rec = rec/5\n",
    "pre = pre/5"
   ]
  },
  {
   "cell_type": "code",
   "execution_count": 60,
   "metadata": {
    "collapsed": false
   },
   "outputs": [
    {
     "name": "stdout",
     "output_type": "stream",
     "text": [
      "Accuracy:  0.9593898165326736\n",
      "Recall:  [0.96666667 0.90920568 0.99354839 0.97412587]\n",
      "Precision:  [0.96363636 0.94756275 0.98666667 0.92580171]\n"
     ]
    }
   ],
   "source": [
    "print(\"Accuracy: \",acc)\n",
    "print(\"Recall: \",rec)\n",
    "print(\"Precision: \",pre)"
   ]
  },
  {
   "cell_type": "markdown",
   "metadata": {
    "collapsed": false
   },
   "source": [
    "### Random Forest"
   ]
  },
  {
   "cell_type": "code",
   "execution_count": 63,
   "metadata": {
    "collapsed": false
   },
   "outputs": [
   ],
   "source": [
    "clf = RandomForestClassifier(max_depth=25)\n",
    "\n",
    "acc = 0\n",
    "rec = np.array([0., 0., 0., 0.])\n",
    "pre = np.array([0., 0., 0., 0.])\n",
    "\n",
    "for train_index, test_index in kf.split(X):\n",
    "    \n",
    "    # Training phase\n",
    "    X_train = X.iloc[train_index, :]\n",
    "    y_train = y.iloc[train_index]\n",
    "    clf.fit(X_train, y_train)\n",
    "\n",
    "    # Test phase\n",
    "    X_test = X.iloc[test_index, :]\n",
    "    y_test = y.iloc[test_index]    \n",
    "    y_pred = clf.predict(X_test)\n",
    "    \n",
    "    acc+=(accuracy_score(y_test, y_pred))\n",
    "    rec+=(recall_score(y_test, y_pred, average=None))\n",
    "    pre+=(precision_score(y_test, y_pred, average=None))\n",
    "    \n",
    "acc = acc/5\n",
    "rec = rec/5\n",
    "pre = pre/5"
   ]
  },
  {
   "cell_type": "code",
   "execution_count": 64,
   "metadata": {
    "collapsed": false
   },
   "outputs": [
    {
     "name": "stdout",
     "output_type": "stream",
     "text": [
      "Accuracy:  0.9715934858792001\n",
      "Recall:  [0.98322368 0.93624709 1.         0.97272727]\n",
      "Precision:  [0.96173041 0.96879723 0.96942761 0.97802198]\n"
     ]
    }
   ],
   "source": [
    "print(\"Accuracy: \",acc)\n",
    "print(\"Recall: \",rec)\n",
    "print(\"Precision: \",pre)"
   ]
  },
  {
   "cell_type": "markdown",
   "metadata": {
    "collapsed": false
   },
   "source": [
    "### Naive Bayes"
   ]
  },
  {
   "cell_type": "code",
   "execution_count": 66,
   "metadata": {
    "collapsed": false
   },
   "outputs": [
   ],
   "source": [
    "clf = GaussianNB()\n",
    "\n",
    "acc = 0\n",
    "rec = np.array([0., 0., 0., 0.])\n",
    "pre = np.array([0., 0., 0., 0.])\n",
    "\n",
    "for train_index, test_index in kf.split(X):\n",
    "    \n",
    "    # Training phase\n",
    "    X_train = X.iloc[train_index, :]\n",
    "    y_train = y.iloc[train_index]\n",
    "    clf.fit(X_train, y_train)\n",
    "\n",
    "    # Test phase\n",
    "    X_test = X.iloc[test_index, :]\n",
    "    y_test = y.iloc[test_index]    \n",
    "    y_pred = clf.predict(X_test)\n",
    "    \n",
    "    acc+=(accuracy_score(y_test, y_pred))\n",
    "    rec+=(recall_score(y_test, y_pred, average=None))\n",
    "    pre+=(precision_score(y_test, y_pred, average=None))\n",
    "    \n",
    "acc = acc/5\n",
    "rec = rec/5\n",
    "pre = pre/5"
   ]
  },
  {
   "cell_type": "code",
   "execution_count": 67,
   "metadata": {
    "collapsed": false
   },
   "outputs": [
    {
     "name": "stdout",
     "output_type": "stream",
     "text": [
      "Accuracy:  0.7303030303030302\n",
      "Recall:  [0.53251612 0.55099936 0.92895366 0.89998002]\n",
      "Precision:  [0.85677362 0.70401099 0.90561529 0.56236588]\n"
     ]
    }
   ],
   "source": [
    "print(\"Accuracy: \",acc)\n",
    "print(\"Recall: \",rec)\n",
    "print(\"Precision: \",pre)"
   ]
  },
  {
   "cell_type": "markdown",
   "metadata": {
    "collapsed": false
   },
   "source": [
    "## Hiperparámetros"
   ]
  },
  {
   "cell_type": "markdown",
   "metadata": {
    "collapsed": false
   },
   "source": [
    "### Hiperparámetros de cada clasificador"
   ]
  },
  {
   "cell_type": "markdown",
   "metadata": {
    "collapsed": false
   },
   "source": [
    "### SVM"
   ]
  },
  {
   "cell_type": "code",
   "execution_count": 72,
   "metadata": {
    "collapsed": false
   },
   "outputs": [
    {
     "data": {
      "text/plain": [
       "{'C': 1.0,\n",
       " 'break_ties': False,\n",
       " 'cache_size': 200,\n",
       " 'class_weight': None,\n",
       " 'coef0': 0.0,\n",
       " 'decision_function_shape': 'ovr',\n",
       " 'degree': 3,\n",
       " 'gamma': 'scale',\n",
       " 'kernel': 'rbf',\n",
       " 'max_iter': -1,\n",
       " 'probability': False,\n",
       " 'random_state': None,\n",
       " 'shrinking': True,\n",
       " 'tol': 0.001,\n",
       " 'verbose': False}"
      ]
     },
     "execution_count": 72,
     "metadata": {
     },
     "output_type": "execute_result"
    }
   ],
   "source": [
    "svm.SVC().get_params()"
   ]
  },
  {
   "cell_type": "markdown",
   "metadata": {
    "collapsed": false
   },
   "source": [
    "### K-NN"
   ]
  },
  {
   "cell_type": "code",
   "execution_count": 74,
   "metadata": {
    "collapsed": false
   },
   "outputs": [
    {
     "data": {
      "text/plain": [
       "{'algorithm': 'auto',\n",
       " 'leaf_size': 30,\n",
       " 'metric': 'minkowski',\n",
       " 'metric_params': None,\n",
       " 'n_jobs': None,\n",
       " 'n_neighbors': 5,\n",
       " 'p': 2,\n",
       " 'weights': 'uniform'}"
      ]
     },
     "execution_count": 74,
     "metadata": {
     },
     "output_type": "execute_result"
    }
   ],
   "source": [
    "KNeighborsClassifier().get_params()"
   ]
  },
  {
   "cell_type": "markdown",
   "metadata": {
    "collapsed": false
   },
   "source": [
    "### MLP"
   ]
  },
  {
   "cell_type": "code",
   "execution_count": 76,
   "metadata": {
    "collapsed": false
   },
   "outputs": [
    {
     "data": {
      "text/plain": [
       "{'activation': 'relu',\n",
       " 'alpha': 0.0001,\n",
       " 'batch_size': 'auto',\n",
       " 'beta_1': 0.9,\n",
       " 'beta_2': 0.999,\n",
       " 'early_stopping': False,\n",
       " 'epsilon': 1e-08,\n",
       " 'hidden_layer_sizes': (100,),\n",
       " 'learning_rate': 'constant',\n",
       " 'learning_rate_init': 0.001,\n",
       " 'max_fun': 15000,\n",
       " 'max_iter': 200,\n",
       " 'momentum': 0.9,\n",
       " 'n_iter_no_change': 10,\n",
       " 'nesterovs_momentum': True,\n",
       " 'power_t': 0.5,\n",
       " 'random_state': None,\n",
       " 'shuffle': True,\n",
       " 'solver': 'adam',\n",
       " 'tol': 0.0001,\n",
       " 'validation_fraction': 0.1,\n",
       " 'verbose': False,\n",
       " 'warm_start': False}"
      ]
     },
     "execution_count": 76,
     "metadata": {
     },
     "output_type": "execute_result"
    }
   ],
   "source": [
    "MLPClassifier().get_params()"
   ]
  },
  {
   "cell_type": "markdown",
   "metadata": {
    "collapsed": false
   },
   "source": [
    "### Random Forest"
   ]
  },
  {
   "cell_type": "code",
   "execution_count": 75,
   "metadata": {
    "collapsed": false
   },
   "outputs": [
    {
     "data": {
      "text/plain": [
       "{'bootstrap': True,\n",
       " 'ccp_alpha': 0.0,\n",
       " 'class_weight': None,\n",
       " 'criterion': 'gini',\n",
       " 'max_depth': None,\n",
       " 'max_features': 'auto',\n",
       " 'max_leaf_nodes': None,\n",
       " 'max_samples': None,\n",
       " 'min_impurity_decrease': 0.0,\n",
       " 'min_impurity_split': None,\n",
       " 'min_samples_leaf': 1,\n",
       " 'min_samples_split': 2,\n",
       " 'min_weight_fraction_leaf': 0.0,\n",
       " 'n_estimators': 100,\n",
       " 'n_jobs': None,\n",
       " 'oob_score': False,\n",
       " 'random_state': None,\n",
       " 'verbose': 0,\n",
       " 'warm_start': False}"
      ]
     },
     "execution_count": 75,
     "metadata": {
     },
     "output_type": "execute_result"
    }
   ],
   "source": [
    "RandomForestClassifier().get_params()"
   ]
  },
  {
   "cell_type": "markdown",
   "metadata": {
    "collapsed": false
   },
   "source": [
    "### Naive Bayes"
   ]
  },
  {
   "cell_type": "code",
   "execution_count": 73,
   "metadata": {
    "collapsed": false
   },
   "outputs": [
    {
     "data": {
      "text/plain": [
       "{'priors': None, 'var_smoothing': 1e-09}"
      ]
     },
     "execution_count": 73,
     "metadata": {
     },
     "output_type": "execute_result"
    }
   ],
   "source": [
    "GaussianNB().get_params()"
   ]
  },
  {
   "cell_type": "markdown",
   "metadata": {
    "collapsed": false
   },
   "source": [
    "### Hiperparámetros óptimos KNN"
   ]
  },
  {
   "cell_type": "code",
   "execution_count": 111,
   "metadata": {
    "collapsed": false,
    "scrolled": true
   },
   "outputs": [
    {
     "data": {
      "text/plain": [
       "GridSearchCV(estimator=KNeighborsClassifier(),\n",
       "             param_grid={'n_neighbors': array([1]), 'p': [1, 2, 3],\n",
       "                         'weights': ['uniform', 'distance']},\n",
       "             scoring='accuracy')"
      ]
     },
     "execution_count": 111,
     "metadata": {
     },
     "output_type": "execute_result"
    }
   ],
   "source": [
    "n_neigh = np.linspace(1,11,1).astype(int)\n",
    "mink = [1,2,3]\n",
    "w=['uniform', 'distance'] \n",
    "parameters = {'n_neighbors':n_neigh, 'p':mink, 'weights':w}\n",
    "neigh = KNeighborsClassifier()\n",
    "clf = GridSearchCV(neigh, parameters, scoring = 'accuracy')\n",
    "clf.fit(X, y)\n",
    "\n",
    "#print(accuracy_score())"
   ]
  },
  {
   "cell_type": "code",
   "execution_count": 112,
   "metadata": {
    "collapsed": false
   },
   "outputs": [
    {
     "data": {
      "text/plain": [
       "{'n_neighbors': 1, 'p': 1, 'weights': 'uniform'}"
      ]
     },
     "execution_count": 112,
     "metadata": {
     },
     "output_type": "execute_result"
    }
   ],
   "source": [
    "clf.best_params_"
   ]
  },
  {
   "cell_type": "code",
   "execution_count": 113,
   "metadata": {
    "collapsed": false
   },
   "outputs": [
    {
     "data": {
      "text/plain": [
       "0.9675324675324675"
      ]
     },
     "execution_count": 113,
     "metadata": {
     },
     "output_type": "execute_result"
    }
   ],
   "source": [
    "clf.best_score_"
   ]
  },
  {
   "cell_type": "code",
   "execution_count": 114,
   "metadata": {
    "collapsed": false
   },
   "outputs": [
   ],
   "source": [
    "clf = KNeighborsClassifier(n_neighbors=1,p=1)\n",
    "\n",
    "acc = 0\n",
    "rec = np.array([0., 0., 0., 0.])\n",
    "pre = np.array([0., 0., 0., 0.])\n",
    "\n",
    "for train_index, test_index in kf.split(X):\n",
    "    \n",
    "    # Training phase\n",
    "    X_train = X.iloc[train_index, :]\n",
    "    y_train = y.iloc[train_index]\n",
    "    clf.fit(X_train, y_train)\n",
    "\n",
    "    # Test phase\n",
    "    X_test = X.iloc[test_index, :]\n",
    "    y_test = y.iloc[test_index]    \n",
    "    y_pred = clf.predict(X_test)\n",
    "    \n",
    "    acc+=(accuracy_score(y_test, y_pred))\n",
    "    rec+=(recall_score(y_test, y_pred, average=None))\n",
    "    pre+=(precision_score(y_test, y_pred, average=None))\n",
    "    \n",
    "acc = acc/5\n",
    "rec = rec/5\n",
    "pre = pre/5"
   ]
  },
  {
   "cell_type": "code",
   "execution_count": 115,
   "metadata": {
    "collapsed": false
   },
   "outputs": [
    {
     "name": "stdout",
     "output_type": "stream",
     "text": [
      "Accuracy:  0.9817769532055246\n",
      "Recall:  [0.99047619 0.94930403 1.         0.99130435]\n",
      "Precision:  [0.96548485 0.98510345 0.99285714 0.98424242]\n"
     ]
    }
   ],
   "source": [
    "print(\"Accuracy: \",acc)\n",
    "print(\"Recall: \",rec)\n",
    "print(\"Precision: \",pre)"
   ]
  },
  {
   "cell_type": "markdown",
   "metadata": {
    "collapsed": false
   },
   "source": [
    "## Método de selección de características."
   ]
  },
  {
   "cell_type": "code",
   "execution_count": 126,
   "metadata": {
    "collapsed": false
   },
   "outputs": [
    {
     "name": "stdout",
     "output_type": "stream",
     "text": [
      "Number of features = 1\n",
      "Accuracy:  0.6288188002473717\n",
      "Recall:  [0.43785714 0.47052379 0.76277198 0.84856683]\n",
      "Precision:  [0.43608453 0.44071795 0.81751005 0.83549972]\n"
     ]
    },
    {
     "name": "stdout",
     "output_type": "stream",
     "text": [
      "Number of features = 3\n",
      "Accuracy:  0.9351680065965781\n",
      "Recall:  [0.93416055 0.88081972 0.99259259 0.93537926]\n",
      "Precision:  [0.94194427 0.90817466 0.95770739 0.92928571]\n"
     ]
    },
    {
     "name": "stdout",
     "output_type": "stream",
     "text": [
      "Number of features = 5\n",
      "Accuracy:  0.9817357245928674\n",
      "Recall:  [0.96225757 0.96344397 1.         1.        ]\n",
      "Precision:  [0.96273292 0.97187507 1.         0.98947368]\n"
     ]
    },
    {
     "name": "stdout",
     "output_type": "stream",
     "text": [
      "Number of features = 7\n",
      "Accuracy:  0.979736136878994\n",
      "Recall:  [0.96968874 0.96485873 1.         0.98090909]\n",
      "Precision:  [0.98521505 0.97014098 1.         0.96290909]\n"
     ]
    },
    {
     "name": "stdout",
     "output_type": "stream",
     "text": [
      "Number of features = 9\n",
      "Accuracy:  0.9878375592661307\n",
      "Recall:  [0.9826087  0.97439516 1.         1.        ]\n",
      "Precision:  [0.97044873 0.99333333 1.         0.984     ]\n"
     ]
    },
    {
     "name": "stdout",
     "output_type": "stream",
     "text": [
      "Number of features = 11\n",
      "Accuracy:  0.9838177695320554\n",
      "Recall:  [0.97490909 0.96766667 1.         0.99090909]\n",
      "Precision:  [0.98206628 0.97954545 1.         0.97186147]\n"
     ]
    },
    {
     "name": "stdout",
     "output_type": "stream",
     "text": [
      "Number of features = 13\n",
      "Accuracy:  0.9816738816738818\n",
      "Recall:  [0.95723463 0.97747253 1.         0.98947368]\n",
      "Precision:  [0.97685185 0.96407967 1.         0.98947368]\n"
     ]
    },
    {
     "name": "stdout",
     "output_type": "stream",
     "text": [
      "Number of features = 15\n",
      "Accuracy:  0.9878375592661307\n",
      "Recall:  [0.97280702 0.98333333 1.         0.99090909]\n",
      "Precision:  [0.98095238 0.98611765 1.         0.98221344]\n"
     ]
    },
    {
     "name": "stdout",
     "output_type": "stream",
     "text": [
      "Number of features = 17\n",
      "Accuracy:  0.9838177695320554\n",
      "Recall:  [0.97321429 0.97928571 1.         0.99166667]\n",
      "Precision:  [0.97916667 0.97730769 1.         0.96888889]\n"
     ]
    },
    {
     "name": "stdout",
     "output_type": "stream",
     "text": [
      "Number of features = 19\n",
      "Accuracy:  0.9878581735724593\n",
      "Recall:  [0.96088889 0.98619048 1.         1.        ]\n",
      "Precision:  [0.98947368 0.98709677 1.         0.97326007]\n"
     ]
    },
    {
     "name": "stdout",
     "output_type": "stream",
     "text": [
      "Number of features = 21\n",
      "Accuracy:  0.9898577612863327\n",
      "Recall:  [0.98297101 0.98425926 1.         0.99310345]\n",
      "Precision:  [0.99130435 0.99259259 1.         0.97129187]\n"
     ]
    },
    {
     "name": "stdout",
     "output_type": "stream",
     "text": [
      "Number of features = 23\n",
      "Accuracy:  0.98989898989899\n",
      "Recall:  [0.97351779 0.984      1.         1.        ]\n",
      "Precision:  [0.99285714 0.99230769 1.         0.97424242]\n"
     ]
    },
    {
     "name": "stdout",
     "output_type": "stream",
     "text": [
      "Number of features = 25\n",
      "Accuracy:  0.9796949082663369\n",
      "Recall:  [0.95156863 0.96318892 1.         1.        ]\n",
      "Precision:  [0.97953964 0.98541114 1.         0.94631202]\n"
     ]
    },
    {
     "name": "stdout",
     "output_type": "stream",
     "text": [
      "Number of features = 27\n",
      "Accuracy:  0.9837971552257267\n",
      "Recall:  [0.97290909 0.96252275 1.         1.        ]\n",
      "Precision:  [0.98330435 0.97973886 1.         0.97518519]\n"
     ]
    },
    {
     "name": "stdout",
     "output_type": "stream",
     "text": [
      "Number of features = 29\n",
      "Accuracy:  0.9736136878994023\n",
      "Recall:  [0.95229891 0.94891496 1.         0.99375   ]\n",
      "Precision:  [0.97054299 0.96287356 0.99259259 0.96240909]\n"
     ]
    }
   ],
   "source": [
    "ks = [1,3,5,7,9,11,13,15,17,19,21,23,25,27,29]\n",
    "accs = []\n",
    "clf = KNeighborsClassifier(n_neighbors=1,p=1)\n",
    "for k in ks:    \n",
    "    ffs = SequentialFeatureSelector(clf, n_features_to_select=k)\n",
    "    ffs.fit(X, y)\n",
    "    X_new = ffs.transform(X)\n",
    "    acc = 0\n",
    "    rec = np.zeros(4)\n",
    "    pre = np.zeros(4) \n",
    "    for train_index, test_index in kf.split(X_new):  \n",
    "        # Training phase\n",
    "        X_train = X_new[train_index, :]\n",
    "        y_train = y[train_index]\n",
    "        clf.fit(X_train, y_train)     \n",
    "        # Test phase\n",
    "        X_test = X_new[test_index, :]\n",
    "        y_test = y[test_index]\n",
    "        y_pred = clf.predict(X_test)\n",
    "\n",
    "        acc+=(accuracy_score(y_test, y_pred))\n",
    "        rec+=(recall_score(y_test, y_pred, average=None))\n",
    "        pre+=(precision_score(y_test, y_pred, average=None))\n",
    "\n",
    "    acc = acc/5\n",
    "    rec = rec/5\n",
    "    pre = pre/5\n",
    "\n",
    "    print(\"Number of features =\", k)\n",
    "    print(\"Accuracy: \",acc)\n",
    "    print(\"Recall: \",rec)\n",
    "    print(\"Precision: \",pre)    "
   ]
  },
  {
   "cell_type": "markdown",
   "metadata": {
    "collapsed": false
   },
   "source": [
    "Indique cuantas características son suficientes para obtener buenos resultados."
   ]
  },
  {
   "cell_type": "markdown",
   "metadata": {
    "collapsed": false
   },
   "source": [
    "El modelo obtuvo mejores resultado utilizando entre 21 y 23 características, aunque la tendencia a este resultado se observa desde las 9."
   ]
  }
 ],
 "metadata": {
  "kernelspec": {
   "display_name": "Python 3 (system-wide)",
   "language": "python",
   "metadata": {
    "cocalc": {
     "description": "Python 3 programming language",
     "priority": 100,
     "url": "https://www.python.org/"
    }
   },
   "name": "python3",
   "resource_dir": "/ext/jupyter/kernels/python3"
  },
  "language_info": {
   "codemirror_mode": {
    "name": "ipython",
    "version": 3
   },
   "file_extension": ".py",
   "mimetype": "text/x-python",
   "name": "python",
   "nbconvert_exporter": "python",
   "pygments_lexer": "ipython3",
   "version": "3.8.5"
  }
 },
 "nbformat": 4,
 "nbformat_minor": 4
}